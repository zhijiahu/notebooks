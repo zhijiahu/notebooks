{
 "cells": [
  {
   "cell_type": "markdown",
   "metadata": {},
   "source": [
    "blocking calls"
   ]
  },
  {
   "cell_type": "code",
   "execution_count": 6,
   "metadata": {},
   "outputs": [
    {
     "name": "stdout",
     "output_type": "stream",
     "text": [
      "HTTP/1.0 200 OK\n",
      "HTTP/1.0 200 OK\n",
      "took 2.05 seconds\n"
     ]
    }
   ],
   "source": [
    "import socket\n",
    "import time\n",
    "\n",
    "def get(path):\n",
    "    s = socket.socket(socket.AF_INET, socket.SOCK_STREAM)\n",
    "    s.connect(('localhost', 5000))\n",
    "    s.send(('GET %s HTTP/1.0\\r\\n\\r\\n' % path).encode())\n",
    "\n",
    "    buf = []\n",
    "    while True:\n",
    "        chunk = s.recv(1000)\n",
    "        if not chunk:\n",
    "            break\n",
    "        buf.append(chunk)\n",
    "\n",
    "    s.close()\n",
    "    print((b''.join(buf)).decode().split('\\n')[0])\n",
    "\n",
    "start = time.time()\n",
    "get('/foo')\n",
    "get('/bar')\n",
    "print('took %.2f seconds' % (time.time() - start))"
   ]
  },
  {
   "cell_type": "code",
   "execution_count": null,
   "metadata": {
    "collapsed": true
   },
   "outputs": [],
   "source": []
  }
 ],
 "metadata": {
  "kernelspec": {
   "display_name": "Python 3",
   "language": "python",
   "name": "python3"
  },
  "language_info": {
   "codemirror_mode": {
    "name": "ipython",
    "version": 3
   },
   "file_extension": ".py",
   "mimetype": "text/x-python",
   "name": "python",
   "nbconvert_exporter": "python",
   "pygments_lexer": "ipython3",
   "version": "3.6.5"
  }
 },
 "nbformat": 4,
 "nbformat_minor": 2
}
