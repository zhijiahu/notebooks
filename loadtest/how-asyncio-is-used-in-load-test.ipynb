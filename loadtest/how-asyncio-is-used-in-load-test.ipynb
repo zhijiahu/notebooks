{
 "cells": [
  {
   "cell_type": "markdown",
   "metadata": {},
   "source": [
    "# Basic usage of asyncio in load test scenario"
   ]
  },
  {
   "cell_type": "markdown",
   "metadata": {},
   "source": [
    "You can change the following to see how the scenario behaves differently\n",
    "- `num_players`\n",
    "- `latency_in_secs`\n",
    "\n",
    "All of these happens in just **1 thread** with many tasks."
   ]
  },
  {
   "cell_type": "markdown",
   "metadata": {},
   "source": [
    "Whenever you see `await`, the coroutine will `pause` at that point with it's logic being scheduled to run in a queue. At that point, it will relinquish control to the event loop. The event loop will then process other pending tasks.\n",
    "Once the logic inside the coroutine is completed, the coroutine will notify the event loop that it is ready to `resume`.\n",
    "\n",
    "The **order** of operations is guranteed for example in `player_actions`."
   ]
  },
  {
   "cell_type": "code",
   "execution_count": null,
   "metadata": {},
   "outputs": [],
   "source": [
    "import asyncio\n",
    "import time\n",
    "import random\n",
    "import time\n",
    "\n",
    "num_players = 10\n",
    "latency_in_secs = 3\n",
    "\n",
    "async def run_scenario():\n",
    "    start = time.time()\n",
    "    \n",
    "    print(\"Begin background task\")\n",
    "    bg_future = asyncio.ensure_future(bg_task())\n",
    "    \n",
    "    # Players\n",
    "    print(\"Starting {} players\".format(num_players))\n",
    "    player_tasks = []\n",
    "    for i in range(num_players):\n",
    "        player_tasks.append(asyncio.ensure_future(player_actions(i)))\n",
    "\n",
    "    await asyncio.gather(*player_tasks)\n",
    "    \n",
    "    print(\"Cancelling background task\")\n",
    "    bg_future.cancel()\n",
    "    \n",
    "    end = time.time()\n",
    "\n",
    "    print('Scenario took {} seconds to complete'.format(end - start))\n",
    "\n",
    "async def player_actions(profile_id):\n",
    "    await request_to_sandbox(profile_id, 'logging in')\n",
    "    await request_to_sandbox(profile_id, 'searching')\n",
    "    await request_to_sandbox(profile_id, 'playing a match')\n",
    "    await request_to_sandbox(profile_id, 'leaving a match')\n",
    "\n",
    "async def request_to_sandbox(profile_id, method):\n",
    "    latency = random.random() * latency_in_secs\n",
    "    await asyncio.sleep(latency)\n",
    "    print(\"Player {} took {:.2f} seconds when {}\".format(profile_id, latency, method))\n",
    "\n",
    "async def bg_task():\n",
    "    while(True):\n",
    "        await asyncio.sleep(1)\n",
    "        print(\"Tick\")\n",
    "\n",
    "# Main loop\n",
    "loop = asyncio.get_event_loop()\n",
    "loop.run_until_complete(run_scenario())"
   ]
  },
  {
   "cell_type": "code",
   "execution_count": null,
   "metadata": {
    "collapsed": true
   },
   "outputs": [],
   "source": []
  }
 ],
 "metadata": {
  "kernelspec": {
   "display_name": "Python 3",
   "language": "python",
   "name": "python3"
  },
  "language_info": {
   "codemirror_mode": {
    "name": "ipython",
    "version": 3
   },
   "file_extension": ".py",
   "mimetype": "text/x-python",
   "name": "python",
   "nbconvert_exporter": "python",
   "pygments_lexer": "ipython3",
   "version": "3.6.3"
  }
 },
 "nbformat": 4,
 "nbformat_minor": 2
}
